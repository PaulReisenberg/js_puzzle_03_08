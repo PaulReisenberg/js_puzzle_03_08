{
 "cells": [
  {
   "cell_type": "code",
   "execution_count": 1,
   "id": "1ad1c276",
   "metadata": {},
   "outputs": [],
   "source": [
    "import numpy as np"
   ]
  },
  {
   "cell_type": "code",
   "execution_count": 72,
   "id": "c7960188",
   "metadata": {},
   "outputs": [],
   "source": [
    "# Game Specifications\n",
    "board = [[\" \" for i in range(10)] for i in range(10)]\n",
    "\n",
    "top = [None, None, 112, None, 48, 3087, 9, None, None, None]\n",
    "right = [None, 4, 27, None, None, None, 16, None, None, None]\n",
    "bottom = [2025, None, None, 12, 64, 5, None, 405, None, None]\n",
    "left = [None, None, None, 27, None, None, None, 12, 225, None]"
   ]
  },
  {
   "cell_type": "code",
   "execution_count": null,
   "id": "57ba3b90",
   "metadata": {},
   "outputs": [],
   "source": [
    "# get all possible factor decompositions. \n",
    "# 1 can only be at the beginning or end because no mirrors are allowed to be in orthorgonal adjacent fields"
   ]
  },
  {
   "cell_type": "code",
   "execution_count": 67,
   "id": "273793d3",
   "metadata": {},
   "outputs": [],
   "source": [
    "def get_all_factors_rec(x):\n",
    "    \n",
    "    if x == 1:\n",
    "        return [[1]]\n",
    "    \n",
    "    combs = []\n",
    "    for i in range(2, x+1):\n",
    "        \n",
    "        if x == i:\n",
    "            combs.append([x])\n",
    "        \n",
    "        elif x % i == 0:\n",
    "            sub_combs = get_all_factors_rec(int(x/i))\n",
    "            \n",
    "            for comb in sub_combs:\n",
    "                comb.append(i)\n",
    "                combs.append(comb)\n",
    "                \n",
    "    return combs\n",
    "\n",
    "def get_all_factors(x):\n",
    "    \n",
    "    combs = get_all_factors_rec(x)\n",
    "    final_combs = []\n",
    "    for comb in combs:\n",
    "        final_combs.append(comb)\n",
    "        final_combs.append(comb + [1])\n",
    "        final_combs.append([1] + comb)\n",
    "        final_combs.append([1] + comb + [1])\n",
    "\n",
    "    return final_combs"
   ]
  },
  {
   "cell_type": "code",
   "execution_count": null,
   "id": "5e94f251",
   "metadata": {},
   "outputs": [],
   "source": []
  },
  {
   "cell_type": "code",
   "execution_count": 78,
   "id": "0c5ae1cb",
   "metadata": {},
   "outputs": [],
   "source": []
  },
  {
   "cell_type": "code",
   "execution_count": 98,
   "id": "4a677217",
   "metadata": {},
   "outputs": [],
   "source": [
    "left_turn = {\n",
    "    \"d\" : \"l\",\n",
    "    \"u\" : \"r\",\n",
    "    \"r\" : \"d\",\n",
    "    \"l\" : \"u\"\n",
    "}\n",
    "\n",
    "right_turn = {\n",
    "    \"d\" : \"r\",\n",
    "    \"u\" : \"l\",\n",
    "    \"r\" : \"u\",\n",
    "    \"l\" : \"d\"\n",
    "}  "
   ]
  },
  {
   "cell_type": "code",
   "execution_count": 187,
   "id": "b1ce19b3",
   "metadata": {},
   "outputs": [],
   "source": [
    "mirror_type = {\n",
    "    \"u\" : {\n",
    "        \"l\" : \"\\\\\",\n",
    "        \"r\" : \"//\"\n",
    "    },\n",
    "    \"d\" : {\n",
    "        \"l\" : \"//\",\n",
    "        \"r\" : \"\\\\\"\n",
    "    },\n",
    "    \"l\" : {\n",
    "        \"u\" : \"\\\\\",\n",
    "        \"d\" : \"//\"\n",
    "    },\n",
    "    \"r\" : {\n",
    "        \"u\" : \"//\",\n",
    "        \"d\" : \"\\\\\"\n",
    "    },\n",
    "}"
   ]
  },
  {
   "cell_type": "code",
   "execution_count": 139,
   "id": "cb493468",
   "metadata": {},
   "outputs": [],
   "source": [
    "def in_field(pos):\n",
    "    if not (pos[0] >= 0 and pos[0] < 10):\n",
    "        return False\n",
    "    \n",
    "    if not (pos[1] >= 0 and pos[1] < 10):\n",
    "        return False\n",
    "\n",
    "    return True"
   ]
  },
  {
   "cell_type": "code",
   "execution_count": 140,
   "id": "9045c758",
   "metadata": {},
   "outputs": [],
   "source": [
    "def step(pos, ori, num):\n",
    "    if ori == \"d\":\n",
    "        return [pos[0] + num, pos[1]]\n",
    "    if ori == \"u\":\n",
    "        return [pos[0] - num, pos[1]]\n",
    "    if ori == \"r\":\n",
    "        return [pos[0], pos[1] + num]\n",
    "    if ori == \"l\":\n",
    "        return [pos[0], pos[1] - num]"
   ]
  },
  {
   "cell_type": "code",
   "execution_count": 156,
   "id": "0806a856",
   "metadata": {},
   "outputs": [],
   "source": [
    "def get_num(pos):\n",
    "    if pos[0] == -1:\n",
    "        return top[pos[1]]\n",
    "    elif pos[0] == 10:\n",
    "        return bottom[pos[1]]\n",
    "    elif pos[1] == -1:\n",
    "        return left[pos[0]]\n",
    "    elif pos[1] == 10:\n",
    "        return right[pos[0]]"
   ]
  },
  {
   "cell_type": "code",
   "execution_count": null,
   "id": "62eb53ca",
   "metadata": {},
   "outputs": [],
   "source": [
    "# Get all possible paths of a laser that starts at pos, where the segements must have the lengths in combs\n",
    "# and the product of these segment lengths has to be num"
   ]
  },
  {
   "cell_type": "code",
   "execution_count": 241,
   "id": "10c33809",
   "metadata": {},
   "outputs": [],
   "source": [
    "def get_possible_paths_rec(pos, ori, comb, idx):\n",
    "    \n",
    "    paths = []\n",
    "    if len(comb) == idx:\n",
    "        if pos[0] == -1 or pos[1] == -1 or pos[0] == 10 or pos[1] == 10:\n",
    "            return [[(pos, None)]]\n",
    "        else:\n",
    "            return []\n",
    "    \n",
    "    elif not in_field(pos):\n",
    "        return []   \n",
    "    \n",
    "    else:\n",
    "        \n",
    "        ori_left = left_turn[ori]\n",
    "        pos_left = step(pos, ori_left, comb[idx])\n",
    "        paths_left = get_possible_paths_rec(pos_left, ori_left, comb, idx+1)\n",
    "        \n",
    "        for path in paths_left:\n",
    "            paths.append([(pos, mirror_type[ori][ori_left])] + path)\n",
    "        \n",
    "        \n",
    "        ori_right = right_turn[ori]\n",
    "        pos_right = step(pos, ori_right, comb[idx])\n",
    "        paths_right = get_possible_paths_rec(pos_right, ori_right, comb, idx+1)\n",
    "        for path in paths_right:\n",
    "            paths.append([(pos, mirror_type[ori][ori_right])] + path)\n",
    "        \n",
    "        \n",
    "        \n",
    "        return paths\n",
    "        \n",
    "def get_possible_paths(pos, num, comb):\n",
    "    \n",
    "    if pos[0] == -1:\n",
    "        ori = \"d\"\n",
    "    elif pos[0] == 10:\n",
    "        ori = \"u\"\n",
    "    elif pos[1] == -1:\n",
    "        ori = \"r\"\n",
    "    elif pos[1] == 10:\n",
    "        ori = \"l\"\n",
    "    \n",
    "    paths = []\n",
    "    next_pos = step(pos, ori, comb[0])\n",
    "    next_paths = get_possible_paths_rec(next_pos, ori, comb, 1)\n",
    "    \n",
    "    for path in next_paths:\n",
    "        last_pos = path[-1][0]\n",
    "        last_num = get_num(last_pos)\n",
    "        \n",
    "        if last_num == num or last_num is None:\n",
    "            paths.append([(pos, None)] + path)\n",
    "    \n",
    "    return paths\n",
    "\n",
    "def get_all_possible_paths(pos, num):\n",
    "    combs = get_all_factors(num)\n",
    "    \n",
    "    all_paths = []\n",
    "    for comb in combs:\n",
    "        paths = get_possible_paths(pos, num, comb)\n",
    "        if paths != []:\n",
    "            all_paths += paths\n",
    "    return all_paths\n",
    "        "
   ]
  },
  {
   "cell_type": "code",
   "execution_count": 236,
   "id": "15b0bd70",
   "metadata": {},
   "outputs": [],
   "source": [
    "def exc_range(a,b):\n",
    "    rang = []\n",
    "    if a < b:\n",
    "        diff = 1\n",
    "    else:\n",
    "        diff = -1\n",
    "    \n",
    "    a += diff\n",
    "    while a != b:\n",
    "        rang.append(a)\n",
    "        a += diff\n",
    "        \n",
    "    return rang\n",
    "    "
   ]
  },
  {
   "cell_type": "code",
   "execution_count": 493,
   "id": "2bb271f2",
   "metadata": {},
   "outputs": [],
   "source": [
    "# This function adds a path to a game_state\n",
    "# Mirrors are displayed as // or \\\\\n",
    "# Every field the laser passes through is blocked with \"b \" so that later paths can't put mirrors in these\n",
    "# fields"
   ]
  },
  {
   "cell_type": "code",
   "execution_count": 375,
   "id": "366ec1ec",
   "metadata": {},
   "outputs": [],
   "source": [
    "def add_path(game_state, path):\n",
    "    \n",
    "        # block between\n",
    "        for i in range(1,len(path)):\n",
    "            if path[i-1][0][0] != path[i][0][0]:\n",
    "                # change in the first coordinate\n",
    "                y = path[i][0][1]\n",
    "                for j in exc_range(path[i-1][0][0], path[i][0][0]):\n",
    "                    \n",
    "                    if game_state[j][y] == \"//\" or game_state[j][y] == \"\\\\\":\n",
    "                        return False\n",
    "                    game_state[j][y] = \"b \"\n",
    "            else:\n",
    "                x = path[i][0][0]\n",
    "                for j in exc_range(path[i-1][0][1], path[i][0][1]):\n",
    "                    \n",
    "                    if game_state[x][j] == \"//\" or game_state[x][j] == \"\\\\\":\n",
    "                        return False\n",
    "                    game_state[x][j] = \"b \"\n",
    "        \n",
    "        # set mirrors\n",
    "        for i in range(1,len(path)-1):\n",
    "            pos = path[i][0]\n",
    "            mirror = path[i][1]\n",
    "            field = game_state[pos[0]][pos[1]]\n",
    "            if field == 'b ' or (field != '  ' and field != mirror):\n",
    "                return False\n",
    "            \n",
    "            game_state[pos[0]][pos[1]] = mirror\n",
    "        \n",
    "        \n",
    "        return True"
   ]
  },
  {
   "cell_type": "code",
   "execution_count": 494,
   "id": "9e93f5ca",
   "metadata": {},
   "outputs": [],
   "source": [
    "# For each laser with a number determine all possible paths"
   ]
  },
  {
   "cell_type": "code",
   "execution_count": 463,
   "id": "b173814c",
   "metadata": {},
   "outputs": [],
   "source": [
    "laser_to_paths = {}\n",
    "laser_id = 0\n",
    "for i in range(len(top)):\n",
    "    if not (top[i] is None):\n",
    "        all_paths = get_all_possible_paths([-1,i], top[i])\n",
    "        laser_to_paths[laser_id] = []\n",
    "        for path in all_paths:\n",
    "            game_state = [[\"  \" for i in range(10)] for i in range(10)]\n",
    "            if add_path(game_state, path):\n",
    "                laser_to_paths[laser_id].append(path)\n",
    "        laser_id += 1\n",
    "\n",
    "for i in range(len(right)):\n",
    "    if not (right[i] is None):\n",
    "        all_paths = get_all_possible_paths([i,10], right[i])\n",
    "        laser_to_paths[laser_id] = []\n",
    "        for path in all_paths:\n",
    "            game_state = [[\"  \" for i in range(10)] for i in range(10)]\n",
    "            if add_path(game_state, path):\n",
    "                laser_to_paths[laser_id].append(path)\n",
    "        laser_id += 1\n",
    "\n",
    "for i in range(len(bottom)):\n",
    "    if not (bottom[i] is None):\n",
    "        all_paths = get_all_possible_paths([10,i], bottom[i])\n",
    "        laser_to_paths[laser_id] = []\n",
    "        for path in all_paths:\n",
    "            game_state = [[\"  \" for i in range(10)] for i in range(10)]\n",
    "            if add_path(game_state, path):\n",
    "                laser_to_paths[laser_id].append(path)\n",
    "        laser_id += 1\n",
    "\n",
    "for i in range(len(left)):\n",
    "    if not (left[i] is None):\n",
    "        all_paths = get_all_possible_paths([i, -1], left[i])\n",
    "        laser_to_paths[laser_id] = []\n",
    "        for path in all_paths:\n",
    "            game_state = [[\"  \" for i in range(10)] for i in range(10)]\n",
    "            if add_path(game_state, path):\n",
    "                laser_to_paths[laser_id].append(path)\n",
    "        laser_id += 1"
   ]
  },
  {
   "cell_type": "code",
   "execution_count": 438,
   "id": "c461f83a",
   "metadata": {},
   "outputs": [],
   "source": [
    "import copy"
   ]
  },
  {
   "cell_type": "code",
   "execution_count": 495,
   "id": "49cffc21",
   "metadata": {},
   "outputs": [],
   "source": [
    "# brute force all possible path combinations"
   ]
  },
  {
   "cell_type": "code",
   "execution_count": 468,
   "id": "4c78fa45",
   "metadata": {},
   "outputs": [],
   "source": [
    "def check_possible(state, laser_id):\n",
    "    if laser_id == 15:\n",
    "        print(f\"{state}\")\n",
    "        return True\n",
    "    \n",
    "    for path in laser_to_paths[laser_id]:\n",
    "        tmp_state = copy.deepcopy(state)\n",
    "        succ = add_path(tmp_state, path)\n",
    "        \n",
    "            \n",
    "        if succ and check_possible(tmp_state, laser_id+1):\n",
    "            return True\n",
    "        \n",
    "    return False"
   ]
  },
  {
   "cell_type": "code",
   "execution_count": 469,
   "id": "3a8b8e2e",
   "metadata": {},
   "outputs": [],
   "source": [
    "game_state = [[\"  \" for i in range(10)] for i in range(10)]"
   ]
  },
  {
   "cell_type": "code",
   "execution_count": 470,
   "id": "a6e8ff88",
   "metadata": {},
   "outputs": [
    {
     "name": "stdout",
     "output_type": "stream",
     "text": [
      "[['b ', 'b ', '\\\\', 'b ', 'b ', 'b ', '\\\\', 'b ', 'b ', '\\\\'], ['b ', 'b ', 'b ', 'b ', 'b ', 'b ', 'b ', 'b ', '\\\\', 'b '], ['//', 'b ', 'b ', 'b ', '//', 'b ', 'b ', '//', 'b ', 'b '], ['b ', 'b ', '//', 'b ', 'b ', 'b ', 'b ', 'b ', 'b ', '\\\\'], ['b ', 'b ', 'b ', 'b ', 'b ', 'b ', '//', 'b ', 'b ', 'b '], ['b ', '//', 'b ', 'b ', '\\\\', 'b ', 'b ', '\\\\', 'b ', 'b '], ['//', 'b ', '\\\\', 'b ', 'b ', '//', 'b ', 'b ', '//', 'b '], ['b ', 'b ', 'b ', '\\\\', 'b ', 'b ', 'b ', 'b ', 'b ', 'b '], ['b ', 'b ', 'b ', 'b ', '//', 'b ', '//', 'b ', '//', 'b '], ['//', 'b ', 'b ', 'b ', 'b ', '//', 'b ', 'b ', 'b ', 'b ']]\n"
     ]
    },
    {
     "data": {
      "text/plain": [
       "True"
      ]
     },
     "execution_count": 470,
     "metadata": {},
     "output_type": "execute_result"
    }
   ],
   "source": [
    "check_possible(game_state, 0)"
   ]
  },
  {
   "cell_type": "code",
   "execution_count": 472,
   "id": "de33b995",
   "metadata": {},
   "outputs": [
    {
     "data": {
      "text/plain": [
       "[['b ', 'b ', '\\\\', 'b ', 'b ', 'b ', '\\\\', 'b ', 'b ', '\\\\'],\n",
       " ['b ', 'b ', 'b ', 'b ', 'b ', 'b ', 'b ', 'b ', '\\\\', 'b '],\n",
       " ['//', 'b ', 'b ', 'b ', '//', 'b ', 'b ', '//', 'b ', 'b '],\n",
       " ['b ', 'b ', '//', 'b ', 'b ', 'b ', 'b ', 'b ', 'b ', '\\\\'],\n",
       " ['b ', 'b ', 'b ', 'b ', 'b ', 'b ', '//', 'b ', 'b ', 'b '],\n",
       " ['b ', '//', 'b ', 'b ', '\\\\', 'b ', 'b ', '\\\\', 'b ', 'b '],\n",
       " ['//', 'b ', '\\\\', 'b ', 'b ', '//', 'b ', 'b ', '//', 'b '],\n",
       " ['b ', 'b ', 'b ', '\\\\', 'b ', 'b ', 'b ', 'b ', 'b ', 'b '],\n",
       " ['b ', 'b ', 'b ', 'b ', '//', 'b ', '//', 'b ', '//', 'b '],\n",
       " ['//', 'b ', 'b ', 'b ', 'b ', '//', 'b ', 'b ', 'b ', 'b ']]"
      ]
     },
     "execution_count": 472,
     "metadata": {},
     "output_type": "execute_result"
    }
   ],
   "source": [
    "solution = [['b ', 'b ', '\\\\', 'b ', 'b ', 'b ', '\\\\', 'b ', 'b ', '\\\\'], ['b ', 'b ', 'b ', 'b ', 'b ', 'b ', 'b ', 'b ', '\\\\', 'b '], ['//', 'b ', 'b ', 'b ', '//', 'b ', 'b ', '//', 'b ', 'b '], ['b ', 'b ', '//', 'b ', 'b ', 'b ', 'b ', 'b ', 'b ', '\\\\'], ['b ', 'b ', 'b ', 'b ', 'b ', 'b ', '//', 'b ', 'b ', 'b '], ['b ', '//', 'b ', 'b ', '\\\\', 'b ', 'b ', '\\\\', 'b ', 'b '], ['//', 'b ', '\\\\', 'b ', 'b ', '//', 'b ', 'b ', '//', 'b '], ['b ', 'b ', 'b ', '\\\\', 'b ', 'b ', 'b ', 'b ', 'b ', 'b '], ['b ', 'b ', 'b ', 'b ', '//', 'b ', '//', 'b ', '//', 'b '], ['//', 'b ', 'b ', 'b ', 'b ', '//', 'b ', 'b ', 'b ', 'b ']]\n",
    "solution"
   ]
  },
  {
   "cell_type": "code",
   "execution_count": 419,
   "id": "795d6926",
   "metadata": {},
   "outputs": [],
   "source": [
    "game_state = [[\"  \" for i in range(10)] for i in range(10)]"
   ]
  },
  {
   "cell_type": "code",
   "execution_count": null,
   "id": "a8baa5d3",
   "metadata": {},
   "outputs": [],
   "source": [
    "# Determine the missing number on the edge of the board and calculate the final solution"
   ]
  },
  {
   "cell_type": "code",
   "execution_count": 485,
   "id": "6451c72a",
   "metadata": {},
   "outputs": [],
   "source": [
    "def follow_laser(game_state, pos, x_diff, y_diff):\n",
    "    \n",
    "    seg_len = 1\n",
    "    pos[0] += x_diff\n",
    "    pos[1] += y_diff\n",
    "    \n",
    "    while in_field(pos) and game_state[pos[0]][pos[1]] == \"b \":\n",
    "        pos[0] += x_diff\n",
    "        pos[1] += y_diff\n",
    "        seg_len+=1\n",
    "    \n",
    "    if not in_field(pos):\n",
    "        return seg_len\n",
    "    \n",
    "    # change direction\n",
    "    if game_state[pos[0]][pos[1]] == \"\\\\\":\n",
    "        tmp = x_diff\n",
    "        x_diff = y_diff\n",
    "        y_diff = tmp\n",
    "        \n",
    "    elif game_state[pos[0]][pos[1]] == \"//\":\n",
    "        tmp = x_diff\n",
    "        x_diff = -y_diff\n",
    "        y_diff = -tmp\n",
    "        \n",
    "    return seg_len * follow_laser(game_state, pos, x_diff, y_diff)\n",
    "    "
   ]
  },
  {
   "cell_type": "code",
   "execution_count": 486,
   "id": "2928aba1",
   "metadata": {},
   "outputs": [
    {
     "data": {
      "text/plain": [
       "112"
      ]
     },
     "execution_count": 486,
     "metadata": {},
     "output_type": "execute_result"
    }
   ],
   "source": [
    "follow_laser(solution, [-1,2], 1, 0)"
   ]
  },
  {
   "cell_type": "code",
   "execution_count": 491,
   "id": "e607af22",
   "metadata": {},
   "outputs": [],
   "source": [
    "def fill_edges(state):\n",
    "    \n",
    "    # top\n",
    "    top_edge = []\n",
    "    for i in range(10):\n",
    "        top_edge.append(follow_laser(state, [-1,i], 1, 0))\n",
    "        \n",
    "    print(f\"top edge: {top_edge}\")\n",
    "    \n",
    "    right_edge = []\n",
    "    for i in range(10):\n",
    "        right_edge.append(follow_laser(state, [i, 10], 0, -1))\n",
    "        \n",
    "    print(f\"rig edge: {right_edge}\")\n",
    "    \n",
    "    bottom_edge = []\n",
    "    for i in range(10):\n",
    "        bottom_edge.append(follow_laser(state, [10, i], -1, 0))\n",
    "        \n",
    "    print(f\"bot edge: {bottom_edge}\")\n",
    "    \n",
    "    left_edge = []\n",
    "    for i in range(10):\n",
    "        left_edge.append(follow_laser(state, [i, -1], 0, 1))\n",
    "        \n",
    "    print(f\"lef edge: {left_edge}\")\n",
    "    \n",
    "    \n",
    "    final_solution = sum(top_edge) * sum(right_edge) * sum(bottom_edge) * sum(left_edge)\n",
    "    \n",
    "    print(f\"final_solution: {final_solution}\")\n",
    "    "
   ]
  },
  {
   "cell_type": "code",
   "execution_count": 492,
   "id": "869aaaf5",
   "metadata": {},
   "outputs": [
    {
     "name": "stdout",
     "output_type": "stream",
     "text": [
      "top edge: [3, 12, 112, 56, 48, 3087, 9, 405, 4, 1]\n",
      "rig edge: [1, 4, 27, 9, 64, 27, 16, 56, 4, 5]\n",
      "bot edge: [2025, 225, 24, 12, 64, 5, 16, 405, 4, 3087]\n",
      "lef edge: [27, 2025, 3, 27, 112, 12, 48, 12, 225, 24]\n",
      "final_solution: 11745101625405\n"
     ]
    }
   ],
   "source": [
    "fill_edges(solution)"
   ]
  },
  {
   "cell_type": "code",
   "execution_count": null,
   "id": "faced2d8",
   "metadata": {},
   "outputs": [],
   "source": []
  }
 ],
 "metadata": {
  "kernelspec": {
   "display_name": "Python 3 (ipykernel)",
   "language": "python",
   "name": "python3"
  },
  "language_info": {
   "codemirror_mode": {
    "name": "ipython",
    "version": 3
   },
   "file_extension": ".py",
   "mimetype": "text/x-python",
   "name": "python",
   "nbconvert_exporter": "python",
   "pygments_lexer": "ipython3",
   "version": "3.11.11"
  }
 },
 "nbformat": 4,
 "nbformat_minor": 5
}
